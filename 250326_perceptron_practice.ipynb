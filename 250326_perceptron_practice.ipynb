{
 "cells": [
  {
   "cell_type": "code",
   "execution_count": 1,
   "metadata": {},
   "outputs": [],
   "source": [
    "import numpy as np"
   ]
  },
  {
   "cell_type": "code",
   "execution_count": 21,
   "metadata": {},
   "outputs": [],
   "source": [
    "# AND 데이터셋 정의\n",
    "AND_X = np.array([[0, 0], [0, 1], [1, 0], [1, 1]])  # 입력값\n",
    "AND_y = np.array([0, 0, 0, 1])  # AND 출력값\n",
    "\n",
    "# OR 데이터셋 정의\n",
    "OR_X = np.array([[0, 0], [0, 1], [1, 0], [1, 1]])  # 입력값\n",
    "OR_y = np.array([0, 1, 1, 1])  # OR 출력값\n",
    "\n",
    "# XOR 데이터셋 정의\n",
    "XOR_X = np.array([[0, 0], [0, 1], [1, 0], [1, 1]])  # 입력값\n",
    "XOR_y = np.array([0, 1, 1, 0])  # XOR 출력값"
   ]
  },
  {
   "cell_type": "code",
   "execution_count": 11,
   "metadata": {},
   "outputs": [],
   "source": [
    "# 퍼셉트론 모델 정의\n",
    "class Perceptron:\n",
    "    def __init__(self, input_size, lr=0.1, epochs=10):\n",
    "        self.weights = np.zeros(input_size + 1)  # 가중치 초기화 (bias 포함)\n",
    "        self.lr = lr  # 학습률\n",
    "        self.epochs = epochs  # 학습 반복 횟수\n",
    "\n",
    "    def activation(self, x):\n",
    "        return 1 if x >= 0 else 0  # 단위 계단 함수\n",
    "\n",
    "    def predict(self, x):\n",
    "        z = np.dot(x, self.weights[1:]) + self.weights[0]  # 가중치와 입력값 계산\n",
    "        return self.activation(z)\n",
    "\n",
    "    def fit(self, X, y):\n",
    "        for epoch in range(self.epochs):\n",
    "            for i in range(X.shape[0]):\n",
    "                x_i = X[i]\n",
    "                y_pred = self.predict(x_i)\n",
    "                error = y[i] - y_pred\n",
    "\n",
    "                # 가중치 업데이트\n",
    "                self.weights[1:] += self.lr * error * x_i\n",
    "                self.weights[0] += self.lr * error  # bias 업데이트\n",
    "\n",
    "            # 학습 과정 출력\n",
    "            print(f\"Epoch {epoch + 1}/{self.epochs}, Weights: {self.weights}\")"
   ]
  },
  {
   "cell_type": "markdown",
   "metadata": {},
   "source": [
    "# AND 데이터 학습"
   ]
  },
  {
   "cell_type": "code",
   "execution_count": 22,
   "metadata": {},
   "outputs": [
    {
     "name": "stdout",
     "output_type": "stream",
     "text": [
      "Epoch 1/10, Weights: [0.  0.1 0.1]\n",
      "Epoch 2/10, Weights: [-0.1  0.2  0.1]\n",
      "Epoch 3/10, Weights: [-0.2  0.2  0.1]\n",
      "Epoch 4/10, Weights: [-0.2  0.2  0.1]\n",
      "Epoch 5/10, Weights: [-0.2  0.2  0.1]\n",
      "Epoch 6/10, Weights: [-0.2  0.2  0.1]\n",
      "Epoch 7/10, Weights: [-0.2  0.2  0.1]\n",
      "Epoch 8/10, Weights: [-0.2  0.2  0.1]\n",
      "Epoch 9/10, Weights: [-0.2  0.2  0.1]\n",
      "Epoch 10/10, Weights: [-0.2  0.2  0.1]\n"
     ]
    }
   ],
   "source": [
    "# 퍼셉트론 학습\n",
    "perceptron = Perceptron(input_size=2, lr=0.1, epochs=10)\n",
    "perceptron.fit(AND_X, AND_y)"
   ]
  },
  {
   "cell_type": "code",
   "execution_count": 23,
   "metadata": {},
   "outputs": [
    {
     "name": "stdout",
     "output_type": "stream",
     "text": [
      "Input: [0 0], Predicted: 0, Target: 0\n",
      "Input: [0 1], Predicted: 0, Target: 0\n",
      "Input: [1 0], Predicted: 0, Target: 0\n",
      "Input: [1 1], Predicted: 1, Target: 1\n"
     ]
    }
   ],
   "source": [
    "# AND 테스트\n",
    "for x, target in zip(AND_X, AND_y):\n",
    "    pred = perceptron.predict(x)\n",
    "    print(f\"Input: {x}, Predicted: {pred}, Target: {target}\")"
   ]
  },
  {
   "cell_type": "markdown",
   "metadata": {},
   "source": [
    "# OR 데이터 학습"
   ]
  },
  {
   "cell_type": "code",
   "execution_count": null,
   "metadata": {},
   "outputs": [],
   "source": [
    "# 퍼셉트론 학습\n",
    "perceptron = Perceptron(input_size=2, lr=0.1, epochs=10)\n",
    "perceptron.fit(OR_X, OR_y)"
   ]
  },
  {
   "cell_type": "code",
   "execution_count": 20,
   "metadata": {},
   "outputs": [
    {
     "name": "stdout",
     "output_type": "stream",
     "text": [
      "Input: [0 0], Predicted: 0, Target: 0\n",
      "Input: [0 1], Predicted: 1, Target: 1\n",
      "Input: [1 0], Predicted: 1, Target: 1\n",
      "Input: [1 1], Predicted: 1, Target: 1\n"
     ]
    }
   ],
   "source": [
    "# OR 테스트\n",
    "for x, target in zip(OR_X, OR_y):\n",
    "    pred = perceptron.predict(x)\n",
    "    print(f\"Input: {x}, Predicted: {pred}, Target: {target}\")"
   ]
  },
  {
   "cell_type": "markdown",
   "metadata": {},
   "source": [
    "# XOR 데이터 학습"
   ]
  },
  {
   "cell_type": "code",
   "execution_count": 14,
   "metadata": {},
   "outputs": [
    {
     "name": "stdout",
     "output_type": "stream",
     "text": [
      "Epoch 1/10, Weights: [-0.1 -0.1  0. ]\n",
      "Epoch 2/10, Weights: [ 0.  -0.1  0. ]\n",
      "Epoch 3/10, Weights: [ 0.  -0.1  0. ]\n",
      "Epoch 4/10, Weights: [ 0.  -0.1  0. ]\n",
      "Epoch 5/10, Weights: [ 0.  -0.1  0. ]\n",
      "Epoch 6/10, Weights: [ 0.  -0.1  0. ]\n",
      "Epoch 7/10, Weights: [ 0.  -0.1  0. ]\n",
      "Epoch 8/10, Weights: [ 0.  -0.1  0. ]\n",
      "Epoch 9/10, Weights: [ 0.  -0.1  0. ]\n",
      "Epoch 10/10, Weights: [ 0.  -0.1  0. ]\n"
     ]
    }
   ],
   "source": [
    "# 퍼셉트론 학습\n",
    "perceptron = Perceptron(input_size=2, lr=0.1, epochs=10)\n",
    "perceptron.fit(XOR_X, XOR_y)"
   ]
  },
  {
   "cell_type": "code",
   "execution_count": 15,
   "metadata": {},
   "outputs": [
    {
     "name": "stdout",
     "output_type": "stream",
     "text": [
      "Testing XOR Problem:\n",
      "Input: [0 0], Predicted: 1, Target: 0\n",
      "Input: [0 1], Predicted: 1, Target: 1\n",
      "Input: [1 0], Predicted: 0, Target: 1\n",
      "Input: [1 1], Predicted: 0, Target: 0\n"
     ]
    }
   ],
   "source": [
    "# XOR 문제 테스트\n",
    "print(\"Testing XOR Problem:\")\n",
    "for x, target in zip(XOR_X, XOR_y):\n",
    "    pred = perceptron.predict(x)\n",
    "    print(f\"Input: {x}, Predicted: {pred}, Target: {target}\")"
   ]
  }
 ],
 "metadata": {
  "kernelspec": {
   "display_name": "tf",
   "language": "python",
   "name": "python3"
  },
  "language_info": {
   "codemirror_mode": {
    "name": "ipython",
    "version": 3
   },
   "file_extension": ".py",
   "mimetype": "text/x-python",
   "name": "python",
   "nbconvert_exporter": "python",
   "pygments_lexer": "ipython3",
   "version": "3.9.0"
  }
 },
 "nbformat": 4,
 "nbformat_minor": 2
}
